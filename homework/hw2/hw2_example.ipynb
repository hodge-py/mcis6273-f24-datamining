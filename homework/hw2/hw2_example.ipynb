{
 "cells": [
  {
   "cell_type": "code",
   "id": "f7dfc74a-b485-445e-b616-37971550dc57",
   "metadata": {
    "tags": [],
    "ExecuteTime": {
     "end_time": "2024-11-27T07:17:21.914967Z",
     "start_time": "2024-11-27T07:17:20.620504Z"
    }
   },
   "source": [
    "import pandas as pd\n",
    "\n",
    "\n",
    "def generate_gutenberg_dataset(guten_ids, outfile):\n",
    "    import requests\n",
    "    import time\n",
    "\n",
    "    data = \"\"\n",
    "\n",
    "    for idf in guten_ids:\n",
    "        url = f\"https://www.gutenberg.org/ebooks/{idf}.txt.utf-8\"\n",
    "        print(url)\n",
    "        with requests.get(url) as r:\n",
    "            data = data + r.content.decode(\"utf-8\")\n",
    "            print(f\"[info]: data obtained from {url}\")\n",
    "            time.sleep(10)\n",
    "\n",
    "    with open(outfile, \"w\",encoding=\"utf-8\") as fo:\n",
    "        fo.write(data)"
   ],
   "outputs": [],
   "execution_count": 1
  },
  {
   "cell_type": "code",
   "id": "b3dc41f0-ac0f-4738-8fee-fc77dfc5c46b",
   "metadata": {
    "ExecuteTime": {
     "end_time": "2024-11-27T07:17:21.927919Z",
     "start_time": "2024-11-27T07:17:21.924483Z"
    }
   },
   "source": [
    "## YOUR CODE GOES HERE\n",
    "\n",
    "herodotus = []\n",
    "lewis_carroll = []\n",
    "f_s_fitzgerald = []\n",
    "t_smollett = []"
   ],
   "outputs": [],
   "execution_count": 2
  },
  {
   "cell_type": "code",
   "id": "a650148a-1e9f-4155-b2f3-f55262983733",
   "metadata": {
    "tags": [],
    "ExecuteTime": {
     "end_time": "2024-11-27T07:17:22.031638Z",
     "start_time": "2024-11-27T07:17:21.932930Z"
    }
   },
   "source": [
    "## THIS CODE SHOULD NOT BE CHANGED!\n",
    "\n",
    "generate_gutenberg_dataset(herodotus, \"herodotus.txt\")\n",
    "generate_gutenberg_dataset(lewis_carroll, \"lewis_carroll.txt\")\n",
    "generate_gutenberg_dataset(f_s_fitzgerald, \"f_s_fitzgerald.txt\")\n",
    "generate_gutenberg_dataset(t_smollett, \"t_smollett.txt\")\n"
   ],
   "outputs": [],
   "execution_count": 3
  },
  {
   "cell_type": "code",
   "id": "ac516faf-a0b6-4ea2-9084-8f9116bac724",
   "metadata": {
    "tags": [],
    "ExecuteTime": {
     "end_time": "2024-11-27T07:18:07.308113Z",
     "start_time": "2024-11-27T07:17:22.347228Z"
    }
   },
   "source": [
    "## THIS IS YOUR TRAINING SET. DO NOT CHANGE!\n",
    "\n",
    "test = [\n",
    "    4084, 55758, 4368, 651\n",
    "]\n",
    "\n",
    "generate_gutenberg_dataset([test[0]], \"t_smollett_test.txt\")\n",
    "generate_gutenberg_dataset([test[1]], \"herodotus_test.txt\")\n",
    "generate_gutenberg_dataset([test[2]], \"f_s_fitzgerald_test.txt\")\n",
    "generate_gutenberg_dataset([test[3]], \"lewis_carroll_test.txt\")"
   ],
   "outputs": [
    {
     "name": "stdout",
     "output_type": "stream",
     "text": [
      "https://www.gutenberg.org/ebooks/4084.txt.utf-8\n",
      "[info]: data obtained from https://www.gutenberg.org/ebooks/4084.txt.utf-8\n",
      "https://www.gutenberg.org/ebooks/55758.txt.utf-8\n",
      "[info]: data obtained from https://www.gutenberg.org/ebooks/55758.txt.utf-8\n",
      "https://www.gutenberg.org/ebooks/4368.txt.utf-8\n",
      "[info]: data obtained from https://www.gutenberg.org/ebooks/4368.txt.utf-8\n",
      "https://www.gutenberg.org/ebooks/651.txt.utf-8\n",
      "[info]: data obtained from https://www.gutenberg.org/ebooks/651.txt.utf-8\n"
     ]
    }
   ],
   "execution_count": 4
  },
  {
   "cell_type": "code",
   "id": "9b645644-0c92-427e-95ef-97c0e3969195",
   "metadata": {
    "ExecuteTime": {
     "end_time": "2024-11-27T07:18:07.318882Z",
     "start_time": "2024-11-27T07:18:07.314693Z"
    }
   },
   "source": [
    "test_train_documents = [\"f_s_fitzgerald_test.txt\", \"herodotus_test.txt\",\"lewis_carroll_test.txt\", \"t_smollett_test.txt\"]\n",
    "\n",
    "test_classes = [1, 2, 3, 4] ## DO NOT CHANGE"
   ],
   "outputs": [],
   "execution_count": 5
  },
  {
   "cell_type": "code",
   "id": "c293bedb-37a1-4cd0-bf48-37b2d3a60308",
   "metadata": {
    "tags": [],
    "ExecuteTime": {
     "end_time": "2024-11-27T07:18:10.024549Z",
     "start_time": "2024-11-27T07:18:07.326409Z"
    }
   },
   "source": [
    "from sklearn.feature_extraction.text import TfidfVectorizer\n",
    "\n",
    "vectorizer = TfidfVectorizer(input=\"filename\", stop_words=\"english\")"
   ],
   "outputs": [],
   "execution_count": 6
  },
  {
   "cell_type": "code",
   "id": "a5e8731b-fca2-4a78-b02a-c7d1cf4b6592",
   "metadata": {
    "tags": [],
    "ExecuteTime": {
     "end_time": "2024-11-27T07:18:10.319656Z",
     "start_time": "2024-11-27T07:18:10.034114Z"
    }
   },
   "source": [
    "## COMPLETE THIS\n",
    "\n",
    "X = vectorizer.fit_transform(test_train_documents)"
   ],
   "outputs": [],
   "execution_count": 7
  },
  {
   "cell_type": "code",
   "id": "0c39661f-f7e2-4678-9cc5-7c7e21c4007d",
   "metadata": {
    "tags": [],
    "ExecuteTime": {
     "end_time": "2024-11-27T07:19:44.255775Z",
     "start_time": "2024-11-27T07:19:44.247029Z"
    }
   },
   "source": [
    "from sklearn.naive_bayes import MultinomialNB\n",
    "clf = MultinomialNB()\n",
    "y = test_classes\n",
    "\n",
    "clf.fit(X, y)\n",
    "print(X.shape)\n",
    "### DO THIS: call the fit() method on the first 4 documents of X and the classes in y"
   ],
   "outputs": [
    {
     "name": "stdout",
     "output_type": "stream",
     "text": [
      "(4, 21549)\n"
     ]
    }
   ],
   "execution_count": 15
  },
  {
   "cell_type": "code",
   "id": "453df1b1-0f32-4732-8a10-7f8bf9576926",
   "metadata": {
    "tags": [],
    "ExecuteTime": {
     "end_time": "2024-11-27T07:21:13.831801Z",
     "start_time": "2024-11-27T07:21:13.776665Z"
    }
   },
   "source": [
    "## DO NOT CHANGE!\n",
    "clf.predict(X[4:])"
   ],
   "outputs": [
    {
     "ename": "ValueError",
     "evalue": "Found array with 0 sample(s) (shape=(0, 21549)) while a minimum of 1 is required by MultinomialNB.",
     "output_type": "error",
     "traceback": [
      "\u001B[1;31m---------------------------------------------------------------------------\u001B[0m",
      "\u001B[1;31mValueError\u001B[0m                                Traceback (most recent call last)",
      "Cell \u001B[1;32mIn[29], line 2\u001B[0m\n\u001B[0;32m      1\u001B[0m \u001B[38;5;66;03m## DO NOT CHANGE!\u001B[39;00m\n\u001B[1;32m----> 2\u001B[0m \u001B[43mclf\u001B[49m\u001B[38;5;241;43m.\u001B[39;49m\u001B[43mpredict\u001B[49m\u001B[43m(\u001B[49m\u001B[43mX\u001B[49m\u001B[43m[\u001B[49m\u001B[38;5;241;43m4\u001B[39;49m\u001B[43m:\u001B[49m\u001B[43m]\u001B[49m\u001B[43m)\u001B[49m\n",
      "File \u001B[1;32m~\\AppData\\Local\\Programs\\Python\\Python311\\Lib\\site-packages\\sklearn\\naive_bayes.py:101\u001B[0m, in \u001B[0;36m_BaseNB.predict\u001B[1;34m(self, X)\u001B[0m\n\u001B[0;32m     87\u001B[0m \u001B[38;5;250m\u001B[39m\u001B[38;5;124;03m\"\"\"\u001B[39;00m\n\u001B[0;32m     88\u001B[0m \u001B[38;5;124;03mPerform classification on an array of test vectors X.\u001B[39;00m\n\u001B[0;32m     89\u001B[0m \n\u001B[1;32m   (...)\u001B[0m\n\u001B[0;32m     98\u001B[0m \u001B[38;5;124;03m    Predicted target values for X.\u001B[39;00m\n\u001B[0;32m     99\u001B[0m \u001B[38;5;124;03m\"\"\"\u001B[39;00m\n\u001B[0;32m    100\u001B[0m check_is_fitted(\u001B[38;5;28mself\u001B[39m)\n\u001B[1;32m--> 101\u001B[0m X \u001B[38;5;241m=\u001B[39m \u001B[38;5;28;43mself\u001B[39;49m\u001B[38;5;241;43m.\u001B[39;49m\u001B[43m_check_X\u001B[49m\u001B[43m(\u001B[49m\u001B[43mX\u001B[49m\u001B[43m)\u001B[49m\n\u001B[0;32m    102\u001B[0m jll \u001B[38;5;241m=\u001B[39m \u001B[38;5;28mself\u001B[39m\u001B[38;5;241m.\u001B[39m_joint_log_likelihood(X)\n\u001B[0;32m    103\u001B[0m \u001B[38;5;28;01mreturn\u001B[39;00m \u001B[38;5;28mself\u001B[39m\u001B[38;5;241m.\u001B[39mclasses_[np\u001B[38;5;241m.\u001B[39margmax(jll, axis\u001B[38;5;241m=\u001B[39m\u001B[38;5;241m1\u001B[39m)]\n",
      "File \u001B[1;32m~\\AppData\\Local\\Programs\\Python\\Python311\\Lib\\site-packages\\sklearn\\naive_bayes.py:574\u001B[0m, in \u001B[0;36m_BaseDiscreteNB._check_X\u001B[1;34m(self, X)\u001B[0m\n\u001B[0;32m    572\u001B[0m \u001B[38;5;28;01mdef\u001B[39;00m \u001B[38;5;21m_check_X\u001B[39m(\u001B[38;5;28mself\u001B[39m, X):\n\u001B[0;32m    573\u001B[0m \u001B[38;5;250m    \u001B[39m\u001B[38;5;124;03m\"\"\"Validate X, used only in predict* methods.\"\"\"\u001B[39;00m\n\u001B[1;32m--> 574\u001B[0m     \u001B[38;5;28;01mreturn\u001B[39;00m \u001B[38;5;28;43mself\u001B[39;49m\u001B[38;5;241;43m.\u001B[39;49m\u001B[43m_validate_data\u001B[49m\u001B[43m(\u001B[49m\u001B[43mX\u001B[49m\u001B[43m,\u001B[49m\u001B[43m \u001B[49m\u001B[43maccept_sparse\u001B[49m\u001B[38;5;241;43m=\u001B[39;49m\u001B[38;5;124;43m\"\u001B[39;49m\u001B[38;5;124;43mcsr\u001B[39;49m\u001B[38;5;124;43m\"\u001B[39;49m\u001B[43m,\u001B[49m\u001B[43m \u001B[49m\u001B[43mreset\u001B[49m\u001B[38;5;241;43m=\u001B[39;49m\u001B[38;5;28;43;01mFalse\u001B[39;49;00m\u001B[43m)\u001B[49m\n",
      "File \u001B[1;32m~\\AppData\\Local\\Programs\\Python\\Python311\\Lib\\site-packages\\sklearn\\base.py:633\u001B[0m, in \u001B[0;36mBaseEstimator._validate_data\u001B[1;34m(self, X, y, reset, validate_separately, cast_to_ndarray, **check_params)\u001B[0m\n\u001B[0;32m    631\u001B[0m         out \u001B[38;5;241m=\u001B[39m X, y\n\u001B[0;32m    632\u001B[0m \u001B[38;5;28;01melif\u001B[39;00m \u001B[38;5;129;01mnot\u001B[39;00m no_val_X \u001B[38;5;129;01mand\u001B[39;00m no_val_y:\n\u001B[1;32m--> 633\u001B[0m     out \u001B[38;5;241m=\u001B[39m \u001B[43mcheck_array\u001B[49m\u001B[43m(\u001B[49m\u001B[43mX\u001B[49m\u001B[43m,\u001B[49m\u001B[43m \u001B[49m\u001B[43minput_name\u001B[49m\u001B[38;5;241;43m=\u001B[39;49m\u001B[38;5;124;43m\"\u001B[39;49m\u001B[38;5;124;43mX\u001B[39;49m\u001B[38;5;124;43m\"\u001B[39;49m\u001B[43m,\u001B[49m\u001B[43m \u001B[49m\u001B[38;5;241;43m*\u001B[39;49m\u001B[38;5;241;43m*\u001B[39;49m\u001B[43mcheck_params\u001B[49m\u001B[43m)\u001B[49m\n\u001B[0;32m    634\u001B[0m \u001B[38;5;28;01melif\u001B[39;00m no_val_X \u001B[38;5;129;01mand\u001B[39;00m \u001B[38;5;129;01mnot\u001B[39;00m no_val_y:\n\u001B[0;32m    635\u001B[0m     out \u001B[38;5;241m=\u001B[39m _check_y(y, \u001B[38;5;241m*\u001B[39m\u001B[38;5;241m*\u001B[39mcheck_params)\n",
      "File \u001B[1;32m~\\AppData\\Local\\Programs\\Python\\Python311\\Lib\\site-packages\\sklearn\\utils\\validation.py:1087\u001B[0m, in \u001B[0;36mcheck_array\u001B[1;34m(array, accept_sparse, accept_large_sparse, dtype, order, copy, force_writeable, force_all_finite, ensure_2d, allow_nd, ensure_min_samples, ensure_min_features, estimator, input_name)\u001B[0m\n\u001B[0;32m   1085\u001B[0m     n_samples \u001B[38;5;241m=\u001B[39m _num_samples(array)\n\u001B[0;32m   1086\u001B[0m     \u001B[38;5;28;01mif\u001B[39;00m n_samples \u001B[38;5;241m<\u001B[39m ensure_min_samples:\n\u001B[1;32m-> 1087\u001B[0m         \u001B[38;5;28;01mraise\u001B[39;00m \u001B[38;5;167;01mValueError\u001B[39;00m(\n\u001B[0;32m   1088\u001B[0m             \u001B[38;5;124m\"\u001B[39m\u001B[38;5;124mFound array with \u001B[39m\u001B[38;5;132;01m%d\u001B[39;00m\u001B[38;5;124m sample(s) (shape=\u001B[39m\u001B[38;5;132;01m%s\u001B[39;00m\u001B[38;5;124m) while a\u001B[39m\u001B[38;5;124m\"\u001B[39m\n\u001B[0;32m   1089\u001B[0m             \u001B[38;5;124m\"\u001B[39m\u001B[38;5;124m minimum of \u001B[39m\u001B[38;5;132;01m%d\u001B[39;00m\u001B[38;5;124m is required\u001B[39m\u001B[38;5;132;01m%s\u001B[39;00m\u001B[38;5;124m.\u001B[39m\u001B[38;5;124m\"\u001B[39m\n\u001B[0;32m   1090\u001B[0m             \u001B[38;5;241m%\u001B[39m (n_samples, array\u001B[38;5;241m.\u001B[39mshape, ensure_min_samples, context)\n\u001B[0;32m   1091\u001B[0m         )\n\u001B[0;32m   1093\u001B[0m \u001B[38;5;28;01mif\u001B[39;00m ensure_min_features \u001B[38;5;241m>\u001B[39m \u001B[38;5;241m0\u001B[39m \u001B[38;5;129;01mand\u001B[39;00m array\u001B[38;5;241m.\u001B[39mndim \u001B[38;5;241m==\u001B[39m \u001B[38;5;241m2\u001B[39m:\n\u001B[0;32m   1094\u001B[0m     n_features \u001B[38;5;241m=\u001B[39m array\u001B[38;5;241m.\u001B[39mshape[\u001B[38;5;241m1\u001B[39m]\n",
      "\u001B[1;31mValueError\u001B[0m: Found array with 0 sample(s) (shape=(0, 21549)) while a minimum of 1 is required by MultinomialNB."
     ]
    }
   ],
   "execution_count": 29
  },
  {
   "metadata": {},
   "cell_type": "code",
   "outputs": [],
   "execution_count": null,
   "source": "",
   "id": "6c37fd7a1336980d"
  }
 ],
 "metadata": {
  "kernelspec": {
   "display_name": "Python 3 (ipykernel)",
   "language": "python",
   "name": "python3"
  },
  "language_info": {
   "codemirror_mode": {
    "name": "ipython",
    "version": 3
   },
   "file_extension": ".py",
   "mimetype": "text/x-python",
   "name": "python",
   "nbconvert_exporter": "python",
   "pygments_lexer": "ipython3",
   "version": "3.11.4"
  }
 },
 "nbformat": 4,
 "nbformat_minor": 5
}
