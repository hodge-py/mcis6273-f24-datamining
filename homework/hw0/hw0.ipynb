{
 "cells": [
  {
   "cell_type": "code",
   "id": "initial_id",
   "metadata": {
    "ExecuteTime": {
     "end_time": "2024-09-24T03:40:54.961731Z",
     "start_time": "2024-09-24T03:40:54.958563Z"
    }
   },
   "source": [
    "import pandas as pd\n",
    "pd.set_option('display.max_rows', None)"
   ],
   "outputs": [],
   "execution_count": 120
  },
  {
   "cell_type": "code",
   "id": "ada41bbff39e1dc9",
   "metadata": {
    "ExecuteTime": {
     "end_time": "2024-09-24T03:40:57.815230Z",
     "start_time": "2024-09-24T03:40:54.969744Z"
    }
   },
   "source": [
    "df = pd.read_csv(\"./data/hw0_dataset_1M.csv\", names = [i for i in range(0,25)])\n",
    "df.head()"
   ],
   "outputs": [
    {
     "name": "stderr",
     "output_type": "stream",
     "text": [
      "C:\\Users\\khodg\\AppData\\Local\\Temp\\ipykernel_27456\\840188311.py:1: DtypeWarning: Columns (17,18) have mixed types. Specify dtype option on import or set low_memory=False.\n",
      "  df = pd.read_csv(\"./data/hw0_dataset_1M.csv\", names = [i for i in range(0,25)])\n"
     ]
    },
    {
     "data": {
      "text/plain": [
       "    0            1                2                        3           4   \\\n",
       "0  NaN          key  doi-asserted-by                      DOI  first-page   \n",
       "1  0.0  e_1_2_7_2_1        publisher         10.1038/35041545         NaN   \n",
       "2  1.0  e_1_2_7_3_1        publisher  10.1126/science.1155121         NaN   \n",
       "3  2.0  e_1_2_7_4_1        publisher    10.1007/s003820050007         NaN   \n",
       "4  3.0  e_1_2_7_5_1        publisher     10.1029/2000GL012471         NaN   \n",
       "\n",
       "             5       6     7       8              9   ...         15       16  \\\n",
       "0  volume-title  author  year  volume  journal-title  ...  issn-type  edition   \n",
       "1           NaN     NaN   NaN     NaN            NaN  ...        NaN      NaN   \n",
       "2           NaN     NaN   NaN     NaN            NaN  ...        NaN      NaN   \n",
       "3           NaN     NaN   NaN     NaN            NaN  ...        NaN      NaN   \n",
       "4           NaN     NaN   NaN     NaN            NaN  ...        NaN      NaN   \n",
       "\n",
       "    17   18  19  20  21  22  23  24  \n",
       "0  NaN  NaN NaN NaN NaN NaN NaN NaN  \n",
       "1  NaN  NaN NaN NaN NaN NaN NaN NaN  \n",
       "2  NaN  NaN NaN NaN NaN NaN NaN NaN  \n",
       "3  NaN  NaN NaN NaN NaN NaN NaN NaN  \n",
       "4  NaN  NaN NaN NaN NaN NaN NaN NaN  \n",
       "\n",
       "[5 rows x 25 columns]"
      ],
      "text/html": [
       "<div>\n",
       "<style scoped>\n",
       "    .dataframe tbody tr th:only-of-type {\n",
       "        vertical-align: middle;\n",
       "    }\n",
       "\n",
       "    .dataframe tbody tr th {\n",
       "        vertical-align: top;\n",
       "    }\n",
       "\n",
       "    .dataframe thead th {\n",
       "        text-align: right;\n",
       "    }\n",
       "</style>\n",
       "<table border=\"1\" class=\"dataframe\">\n",
       "  <thead>\n",
       "    <tr style=\"text-align: right;\">\n",
       "      <th></th>\n",
       "      <th>0</th>\n",
       "      <th>1</th>\n",
       "      <th>2</th>\n",
       "      <th>3</th>\n",
       "      <th>4</th>\n",
       "      <th>5</th>\n",
       "      <th>6</th>\n",
       "      <th>7</th>\n",
       "      <th>8</th>\n",
       "      <th>9</th>\n",
       "      <th>...</th>\n",
       "      <th>15</th>\n",
       "      <th>16</th>\n",
       "      <th>17</th>\n",
       "      <th>18</th>\n",
       "      <th>19</th>\n",
       "      <th>20</th>\n",
       "      <th>21</th>\n",
       "      <th>22</th>\n",
       "      <th>23</th>\n",
       "      <th>24</th>\n",
       "    </tr>\n",
       "  </thead>\n",
       "  <tbody>\n",
       "    <tr>\n",
       "      <th>0</th>\n",
       "      <td>NaN</td>\n",
       "      <td>key</td>\n",
       "      <td>doi-asserted-by</td>\n",
       "      <td>DOI</td>\n",
       "      <td>first-page</td>\n",
       "      <td>volume-title</td>\n",
       "      <td>author</td>\n",
       "      <td>year</td>\n",
       "      <td>volume</td>\n",
       "      <td>journal-title</td>\n",
       "      <td>...</td>\n",
       "      <td>issn-type</td>\n",
       "      <td>edition</td>\n",
       "      <td>NaN</td>\n",
       "      <td>NaN</td>\n",
       "      <td>NaN</td>\n",
       "      <td>NaN</td>\n",
       "      <td>NaN</td>\n",
       "      <td>NaN</td>\n",
       "      <td>NaN</td>\n",
       "      <td>NaN</td>\n",
       "    </tr>\n",
       "    <tr>\n",
       "      <th>1</th>\n",
       "      <td>0.0</td>\n",
       "      <td>e_1_2_7_2_1</td>\n",
       "      <td>publisher</td>\n",
       "      <td>10.1038/35041545</td>\n",
       "      <td>NaN</td>\n",
       "      <td>NaN</td>\n",
       "      <td>NaN</td>\n",
       "      <td>NaN</td>\n",
       "      <td>NaN</td>\n",
       "      <td>NaN</td>\n",
       "      <td>...</td>\n",
       "      <td>NaN</td>\n",
       "      <td>NaN</td>\n",
       "      <td>NaN</td>\n",
       "      <td>NaN</td>\n",
       "      <td>NaN</td>\n",
       "      <td>NaN</td>\n",
       "      <td>NaN</td>\n",
       "      <td>NaN</td>\n",
       "      <td>NaN</td>\n",
       "      <td>NaN</td>\n",
       "    </tr>\n",
       "    <tr>\n",
       "      <th>2</th>\n",
       "      <td>1.0</td>\n",
       "      <td>e_1_2_7_3_1</td>\n",
       "      <td>publisher</td>\n",
       "      <td>10.1126/science.1155121</td>\n",
       "      <td>NaN</td>\n",
       "      <td>NaN</td>\n",
       "      <td>NaN</td>\n",
       "      <td>NaN</td>\n",
       "      <td>NaN</td>\n",
       "      <td>NaN</td>\n",
       "      <td>...</td>\n",
       "      <td>NaN</td>\n",
       "      <td>NaN</td>\n",
       "      <td>NaN</td>\n",
       "      <td>NaN</td>\n",
       "      <td>NaN</td>\n",
       "      <td>NaN</td>\n",
       "      <td>NaN</td>\n",
       "      <td>NaN</td>\n",
       "      <td>NaN</td>\n",
       "      <td>NaN</td>\n",
       "    </tr>\n",
       "    <tr>\n",
       "      <th>3</th>\n",
       "      <td>2.0</td>\n",
       "      <td>e_1_2_7_4_1</td>\n",
       "      <td>publisher</td>\n",
       "      <td>10.1007/s003820050007</td>\n",
       "      <td>NaN</td>\n",
       "      <td>NaN</td>\n",
       "      <td>NaN</td>\n",
       "      <td>NaN</td>\n",
       "      <td>NaN</td>\n",
       "      <td>NaN</td>\n",
       "      <td>...</td>\n",
       "      <td>NaN</td>\n",
       "      <td>NaN</td>\n",
       "      <td>NaN</td>\n",
       "      <td>NaN</td>\n",
       "      <td>NaN</td>\n",
       "      <td>NaN</td>\n",
       "      <td>NaN</td>\n",
       "      <td>NaN</td>\n",
       "      <td>NaN</td>\n",
       "      <td>NaN</td>\n",
       "    </tr>\n",
       "    <tr>\n",
       "      <th>4</th>\n",
       "      <td>3.0</td>\n",
       "      <td>e_1_2_7_5_1</td>\n",
       "      <td>publisher</td>\n",
       "      <td>10.1029/2000GL012471</td>\n",
       "      <td>NaN</td>\n",
       "      <td>NaN</td>\n",
       "      <td>NaN</td>\n",
       "      <td>NaN</td>\n",
       "      <td>NaN</td>\n",
       "      <td>NaN</td>\n",
       "      <td>...</td>\n",
       "      <td>NaN</td>\n",
       "      <td>NaN</td>\n",
       "      <td>NaN</td>\n",
       "      <td>NaN</td>\n",
       "      <td>NaN</td>\n",
       "      <td>NaN</td>\n",
       "      <td>NaN</td>\n",
       "      <td>NaN</td>\n",
       "      <td>NaN</td>\n",
       "      <td>NaN</td>\n",
       "    </tr>\n",
       "  </tbody>\n",
       "</table>\n",
       "<p>5 rows × 25 columns</p>\n",
       "</div>"
      ]
     },
     "execution_count": 121,
     "metadata": {},
     "output_type": "execute_result"
    }
   ],
   "execution_count": 121
  },
  {
   "metadata": {
    "ExecuteTime": {
     "end_time": "2024-09-24T03:42:25.143770Z",
     "start_time": "2024-09-24T03:42:25.108684Z"
    }
   },
   "cell_type": "code",
   "source": "keys = df[df.iloc[:,1] == 'key']",
   "id": "fd596e39ceb2d8c",
   "outputs": [],
   "execution_count": 122
  },
  {
   "metadata": {
    "ExecuteTime": {
     "end_time": "2024-09-24T03:50:18.141027Z",
     "start_time": "2024-09-24T03:50:18.138211Z"
    }
   },
   "cell_type": "code",
   "source": "index = keys.index.values",
   "id": "c4e12ef802efa2fe",
   "outputs": [],
   "execution_count": 129
  },
  {
   "metadata": {
    "ExecuteTime": {
     "end_time": "2024-09-24T04:14:27.451053Z",
     "start_time": "2024-09-24T04:14:27.444659Z"
    }
   },
   "cell_type": "code",
   "source": [
    "low = 0\n",
    "indexNum = 0\n",
    "for x in index:\n",
    "    if df.iloc[x].notna().sum() > low:\n",
    "        low = df.iloc[x].notna().sum()\n",
    "        indexNum = x\n"
   ],
   "id": "a92cc23d77448ecb",
   "outputs": [],
   "execution_count": 140
  },
  {
   "metadata": {
    "ExecuteTime": {
     "end_time": "2024-09-24T04:14:27.459135Z",
     "start_time": "2024-09-24T04:14:27.456064Z"
    }
   },
   "cell_type": "code",
   "source": "print(indexNum)",
   "id": "4802357cb9bb03f4",
   "outputs": [
    {
     "name": "stdout",
     "output_type": "stream",
     "text": [
      "42114\n"
     ]
    }
   ],
   "execution_count": 141
  },
  {
   "metadata": {
    "ExecuteTime": {
     "end_time": "2024-09-24T04:53:07.296276Z",
     "start_time": "2024-09-24T04:53:07.292071Z"
    }
   },
   "cell_type": "code",
   "source": "new_df = pd.DataFrame(columns=df.iloc[indexNum])",
   "id": "1135a802330d487b",
   "outputs": [],
   "execution_count": 158
  },
  {
   "metadata": {
    "ExecuteTime": {
     "end_time": "2024-09-24T04:53:07.305802Z",
     "start_time": "2024-09-24T04:53:07.301283Z"
    }
   },
   "cell_type": "code",
   "source": "print(new_df)",
   "id": "11abb48ac5623526",
   "outputs": [
    {
     "name": "stdout",
     "output_type": "stream",
     "text": [
      "Empty DataFrame\n",
      "Columns: [nan, key, doi-asserted-by, first-page, DOI, article-title, volume, author, year, journal-title, unstructured, issue, series-title, volume-title, edition, ISSN, issn-type, isbn-type, ISBN, nan, nan, nan, nan, nan, nan]\n",
      "Index: []\n",
      "\n",
      "[0 rows x 25 columns]\n"
     ]
    }
   ],
   "execution_count": 159
  },
  {
   "metadata": {
    "ExecuteTime": {
     "end_time": "2024-09-24T04:54:34.704788Z",
     "start_time": "2024-09-24T04:54:34.700082Z"
    }
   },
   "cell_type": "code",
   "source": "new_df = new_df.loc[:,new_df.columns.notna()]",
   "id": "ec55bc0180a55791",
   "outputs": [
    {
     "name": "stdout",
     "output_type": "stream",
     "text": [
      "Empty DataFrame\n",
      "Columns: [key, doi-asserted-by, first-page, DOI, article-title, volume, author, year, journal-title, unstructured, issue, series-title, volume-title, edition, ISSN, issn-type, isbn-type, ISBN]\n",
      "Index: []\n"
     ]
    }
   ],
   "execution_count": 160
  },
  {
   "metadata": {
    "ExecuteTime": {
     "end_time": "2024-09-24T06:50:59.881172Z",
     "start_time": "2024-09-24T06:50:59.877948Z"
    }
   },
   "cell_type": "code",
   "source": [
    "rowData = []\n",
    "for x in range(1,len(index)):\n",
    "    dfx = df.iloc[:index[x],:]\n",
    "    rowData += [dfx]\n",
    "    break"
   ],
   "id": "842b9d1510783a3b",
   "outputs": [],
   "execution_count": 177
  },
  {
   "metadata": {
    "ExecuteTime": {
     "end_time": "2024-09-24T06:54:09.791364Z",
     "start_time": "2024-09-24T06:54:09.775205Z"
    }
   },
   "cell_type": "code",
   "source": [
    "for x in range(len(rowData)):\n",
    "    pass"
   ],
   "id": "bd8276a436092031",
   "outputs": [
    {
     "data": {
      "text/plain": [
       "    0            1                2                        3           4   \\\n",
       "0  NaN          key  doi-asserted-by                      DOI  first-page   \n",
       "1  0.0  e_1_2_7_2_1        publisher         10.1038/35041545         NaN   \n",
       "2  1.0  e_1_2_7_3_1        publisher  10.1126/science.1155121         NaN   \n",
       "3  2.0  e_1_2_7_4_1        publisher    10.1007/s003820050007         NaN   \n",
       "4  3.0  e_1_2_7_5_1        publisher     10.1029/2000GL012471         NaN   \n",
       "\n",
       "             5       6     7       8              9   ...         15       16  \\\n",
       "0  volume-title  author  year  volume  journal-title  ...  issn-type  edition   \n",
       "1           NaN     NaN   NaN     NaN            NaN  ...        NaN      NaN   \n",
       "2           NaN     NaN   NaN     NaN            NaN  ...        NaN      NaN   \n",
       "3           NaN     NaN   NaN     NaN            NaN  ...        NaN      NaN   \n",
       "4           NaN     NaN   NaN     NaN            NaN  ...        NaN      NaN   \n",
       "\n",
       "    17   18  19  20  21  22  23  24  \n",
       "0  NaN  NaN NaN NaN NaN NaN NaN NaN  \n",
       "1  NaN  NaN NaN NaN NaN NaN NaN NaN  \n",
       "2  NaN  NaN NaN NaN NaN NaN NaN NaN  \n",
       "3  NaN  NaN NaN NaN NaN NaN NaN NaN  \n",
       "4  NaN  NaN NaN NaN NaN NaN NaN NaN  \n",
       "\n",
       "[5 rows x 25 columns]"
      ],
      "text/html": [
       "<div>\n",
       "<style scoped>\n",
       "    .dataframe tbody tr th:only-of-type {\n",
       "        vertical-align: middle;\n",
       "    }\n",
       "\n",
       "    .dataframe tbody tr th {\n",
       "        vertical-align: top;\n",
       "    }\n",
       "\n",
       "    .dataframe thead th {\n",
       "        text-align: right;\n",
       "    }\n",
       "</style>\n",
       "<table border=\"1\" class=\"dataframe\">\n",
       "  <thead>\n",
       "    <tr style=\"text-align: right;\">\n",
       "      <th></th>\n",
       "      <th>0</th>\n",
       "      <th>1</th>\n",
       "      <th>2</th>\n",
       "      <th>3</th>\n",
       "      <th>4</th>\n",
       "      <th>5</th>\n",
       "      <th>6</th>\n",
       "      <th>7</th>\n",
       "      <th>8</th>\n",
       "      <th>9</th>\n",
       "      <th>...</th>\n",
       "      <th>15</th>\n",
       "      <th>16</th>\n",
       "      <th>17</th>\n",
       "      <th>18</th>\n",
       "      <th>19</th>\n",
       "      <th>20</th>\n",
       "      <th>21</th>\n",
       "      <th>22</th>\n",
       "      <th>23</th>\n",
       "      <th>24</th>\n",
       "    </tr>\n",
       "  </thead>\n",
       "  <tbody>\n",
       "    <tr>\n",
       "      <th>0</th>\n",
       "      <td>NaN</td>\n",
       "      <td>key</td>\n",
       "      <td>doi-asserted-by</td>\n",
       "      <td>DOI</td>\n",
       "      <td>first-page</td>\n",
       "      <td>volume-title</td>\n",
       "      <td>author</td>\n",
       "      <td>year</td>\n",
       "      <td>volume</td>\n",
       "      <td>journal-title</td>\n",
       "      <td>...</td>\n",
       "      <td>issn-type</td>\n",
       "      <td>edition</td>\n",
       "      <td>NaN</td>\n",
       "      <td>NaN</td>\n",
       "      <td>NaN</td>\n",
       "      <td>NaN</td>\n",
       "      <td>NaN</td>\n",
       "      <td>NaN</td>\n",
       "      <td>NaN</td>\n",
       "      <td>NaN</td>\n",
       "    </tr>\n",
       "    <tr>\n",
       "      <th>1</th>\n",
       "      <td>0.0</td>\n",
       "      <td>e_1_2_7_2_1</td>\n",
       "      <td>publisher</td>\n",
       "      <td>10.1038/35041545</td>\n",
       "      <td>NaN</td>\n",
       "      <td>NaN</td>\n",
       "      <td>NaN</td>\n",
       "      <td>NaN</td>\n",
       "      <td>NaN</td>\n",
       "      <td>NaN</td>\n",
       "      <td>...</td>\n",
       "      <td>NaN</td>\n",
       "      <td>NaN</td>\n",
       "      <td>NaN</td>\n",
       "      <td>NaN</td>\n",
       "      <td>NaN</td>\n",
       "      <td>NaN</td>\n",
       "      <td>NaN</td>\n",
       "      <td>NaN</td>\n",
       "      <td>NaN</td>\n",
       "      <td>NaN</td>\n",
       "    </tr>\n",
       "    <tr>\n",
       "      <th>2</th>\n",
       "      <td>1.0</td>\n",
       "      <td>e_1_2_7_3_1</td>\n",
       "      <td>publisher</td>\n",
       "      <td>10.1126/science.1155121</td>\n",
       "      <td>NaN</td>\n",
       "      <td>NaN</td>\n",
       "      <td>NaN</td>\n",
       "      <td>NaN</td>\n",
       "      <td>NaN</td>\n",
       "      <td>NaN</td>\n",
       "      <td>...</td>\n",
       "      <td>NaN</td>\n",
       "      <td>NaN</td>\n",
       "      <td>NaN</td>\n",
       "      <td>NaN</td>\n",
       "      <td>NaN</td>\n",
       "      <td>NaN</td>\n",
       "      <td>NaN</td>\n",
       "      <td>NaN</td>\n",
       "      <td>NaN</td>\n",
       "      <td>NaN</td>\n",
       "    </tr>\n",
       "    <tr>\n",
       "      <th>3</th>\n",
       "      <td>2.0</td>\n",
       "      <td>e_1_2_7_4_1</td>\n",
       "      <td>publisher</td>\n",
       "      <td>10.1007/s003820050007</td>\n",
       "      <td>NaN</td>\n",
       "      <td>NaN</td>\n",
       "      <td>NaN</td>\n",
       "      <td>NaN</td>\n",
       "      <td>NaN</td>\n",
       "      <td>NaN</td>\n",
       "      <td>...</td>\n",
       "      <td>NaN</td>\n",
       "      <td>NaN</td>\n",
       "      <td>NaN</td>\n",
       "      <td>NaN</td>\n",
       "      <td>NaN</td>\n",
       "      <td>NaN</td>\n",
       "      <td>NaN</td>\n",
       "      <td>NaN</td>\n",
       "      <td>NaN</td>\n",
       "      <td>NaN</td>\n",
       "    </tr>\n",
       "    <tr>\n",
       "      <th>4</th>\n",
       "      <td>3.0</td>\n",
       "      <td>e_1_2_7_5_1</td>\n",
       "      <td>publisher</td>\n",
       "      <td>10.1029/2000GL012471</td>\n",
       "      <td>NaN</td>\n",
       "      <td>NaN</td>\n",
       "      <td>NaN</td>\n",
       "      <td>NaN</td>\n",
       "      <td>NaN</td>\n",
       "      <td>NaN</td>\n",
       "      <td>...</td>\n",
       "      <td>NaN</td>\n",
       "      <td>NaN</td>\n",
       "      <td>NaN</td>\n",
       "      <td>NaN</td>\n",
       "      <td>NaN</td>\n",
       "      <td>NaN</td>\n",
       "      <td>NaN</td>\n",
       "      <td>NaN</td>\n",
       "      <td>NaN</td>\n",
       "      <td>NaN</td>\n",
       "    </tr>\n",
       "  </tbody>\n",
       "</table>\n",
       "<p>5 rows × 25 columns</p>\n",
       "</div>"
      ]
     },
     "execution_count": 179,
     "metadata": {},
     "output_type": "execute_result"
    }
   ],
   "execution_count": 179
  },
  {
   "metadata": {},
   "cell_type": "code",
   "outputs": [],
   "execution_count": null,
   "source": "",
   "id": "dc56e58e00ac6529"
  }
 ],
 "metadata": {
  "kernelspec": {
   "display_name": "Python 3 (ipykernel)",
   "language": "python",
   "name": "python3"
  },
  "language_info": {
   "codemirror_mode": {
    "name": "ipython",
    "version": 3
   },
   "file_extension": ".py",
   "mimetype": "text/x-python",
   "name": "python",
   "nbconvert_exporter": "python",
   "pygments_lexer": "ipython3",
   "version": "3.11.7"
  }
 },
 "nbformat": 4,
 "nbformat_minor": 5
}
