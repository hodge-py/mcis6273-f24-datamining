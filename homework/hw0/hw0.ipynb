{
 "cells": [
  {
   "cell_type": "code",
   "id": "initial_id",
   "metadata": {
    "ExecuteTime": {
     "end_time": "2024-09-23T01:08:23.140130Z",
     "start_time": "2024-09-23T01:08:22.646482Z"
    }
   },
   "source": [
    "import pandas as pd\n",
    "pd.set_option('display.max_rows', None)"
   ],
   "outputs": [],
   "execution_count": 2
  },
  {
   "cell_type": "code",
   "id": "ada41bbff39e1dc9",
   "metadata": {
    "ExecuteTime": {
     "end_time": "2024-09-23T01:08:26.215717Z",
     "start_time": "2024-09-23T01:08:23.177996Z"
    }
   },
   "source": [
    "df = pd.read_csv(\"./data/hw0_dataset_1M.csv\", names = [i for i in range(0,30)])\n",
    "df.head()"
   ],
   "outputs": [
    {
     "name": "stderr",
     "output_type": "stream",
     "text": [
      "C:\\Users\\khodg\\AppData\\Local\\Temp\\ipykernel_8072\\3815970306.py:1: DtypeWarning: Columns (17,18) have mixed types. Specify dtype option on import or set low_memory=False.\n",
      "  df = pd.read_csv(\"./data/hw0_dataset_1M.csv\", names = [i for i in range(0,30)])\n"
     ]
    },
    {
     "data": {
      "text/plain": [
       "    0            1                2                        3           4   \\\n",
       "0  NaN          key  doi-asserted-by                      DOI  first-page   \n",
       "1  0.0  e_1_2_7_2_1        publisher         10.1038/35041545         NaN   \n",
       "2  1.0  e_1_2_7_3_1        publisher  10.1126/science.1155121         NaN   \n",
       "3  2.0  e_1_2_7_4_1        publisher    10.1007/s003820050007         NaN   \n",
       "4  3.0  e_1_2_7_5_1        publisher     10.1029/2000GL012471         NaN   \n",
       "\n",
       "             5       6     7       8              9   ...  20  21  22  23  24  \\\n",
       "0  volume-title  author  year  volume  journal-title  ... NaN NaN NaN NaN NaN   \n",
       "1           NaN     NaN   NaN     NaN            NaN  ... NaN NaN NaN NaN NaN   \n",
       "2           NaN     NaN   NaN     NaN            NaN  ... NaN NaN NaN NaN NaN   \n",
       "3           NaN     NaN   NaN     NaN            NaN  ... NaN NaN NaN NaN NaN   \n",
       "4           NaN     NaN   NaN     NaN            NaN  ... NaN NaN NaN NaN NaN   \n",
       "\n",
       "   25  26  27  28  29  \n",
       "0 NaN NaN NaN NaN NaN  \n",
       "1 NaN NaN NaN NaN NaN  \n",
       "2 NaN NaN NaN NaN NaN  \n",
       "3 NaN NaN NaN NaN NaN  \n",
       "4 NaN NaN NaN NaN NaN  \n",
       "\n",
       "[5 rows x 30 columns]"
      ],
      "text/html": [
       "<div>\n",
       "<style scoped>\n",
       "    .dataframe tbody tr th:only-of-type {\n",
       "        vertical-align: middle;\n",
       "    }\n",
       "\n",
       "    .dataframe tbody tr th {\n",
       "        vertical-align: top;\n",
       "    }\n",
       "\n",
       "    .dataframe thead th {\n",
       "        text-align: right;\n",
       "    }\n",
       "</style>\n",
       "<table border=\"1\" class=\"dataframe\">\n",
       "  <thead>\n",
       "    <tr style=\"text-align: right;\">\n",
       "      <th></th>\n",
       "      <th>0</th>\n",
       "      <th>1</th>\n",
       "      <th>2</th>\n",
       "      <th>3</th>\n",
       "      <th>4</th>\n",
       "      <th>5</th>\n",
       "      <th>6</th>\n",
       "      <th>7</th>\n",
       "      <th>8</th>\n",
       "      <th>9</th>\n",
       "      <th>...</th>\n",
       "      <th>20</th>\n",
       "      <th>21</th>\n",
       "      <th>22</th>\n",
       "      <th>23</th>\n",
       "      <th>24</th>\n",
       "      <th>25</th>\n",
       "      <th>26</th>\n",
       "      <th>27</th>\n",
       "      <th>28</th>\n",
       "      <th>29</th>\n",
       "    </tr>\n",
       "  </thead>\n",
       "  <tbody>\n",
       "    <tr>\n",
       "      <th>0</th>\n",
       "      <td>NaN</td>\n",
       "      <td>key</td>\n",
       "      <td>doi-asserted-by</td>\n",
       "      <td>DOI</td>\n",
       "      <td>first-page</td>\n",
       "      <td>volume-title</td>\n",
       "      <td>author</td>\n",
       "      <td>year</td>\n",
       "      <td>volume</td>\n",
       "      <td>journal-title</td>\n",
       "      <td>...</td>\n",
       "      <td>NaN</td>\n",
       "      <td>NaN</td>\n",
       "      <td>NaN</td>\n",
       "      <td>NaN</td>\n",
       "      <td>NaN</td>\n",
       "      <td>NaN</td>\n",
       "      <td>NaN</td>\n",
       "      <td>NaN</td>\n",
       "      <td>NaN</td>\n",
       "      <td>NaN</td>\n",
       "    </tr>\n",
       "    <tr>\n",
       "      <th>1</th>\n",
       "      <td>0.0</td>\n",
       "      <td>e_1_2_7_2_1</td>\n",
       "      <td>publisher</td>\n",
       "      <td>10.1038/35041545</td>\n",
       "      <td>NaN</td>\n",
       "      <td>NaN</td>\n",
       "      <td>NaN</td>\n",
       "      <td>NaN</td>\n",
       "      <td>NaN</td>\n",
       "      <td>NaN</td>\n",
       "      <td>...</td>\n",
       "      <td>NaN</td>\n",
       "      <td>NaN</td>\n",
       "      <td>NaN</td>\n",
       "      <td>NaN</td>\n",
       "      <td>NaN</td>\n",
       "      <td>NaN</td>\n",
       "      <td>NaN</td>\n",
       "      <td>NaN</td>\n",
       "      <td>NaN</td>\n",
       "      <td>NaN</td>\n",
       "    </tr>\n",
       "    <tr>\n",
       "      <th>2</th>\n",
       "      <td>1.0</td>\n",
       "      <td>e_1_2_7_3_1</td>\n",
       "      <td>publisher</td>\n",
       "      <td>10.1126/science.1155121</td>\n",
       "      <td>NaN</td>\n",
       "      <td>NaN</td>\n",
       "      <td>NaN</td>\n",
       "      <td>NaN</td>\n",
       "      <td>NaN</td>\n",
       "      <td>NaN</td>\n",
       "      <td>...</td>\n",
       "      <td>NaN</td>\n",
       "      <td>NaN</td>\n",
       "      <td>NaN</td>\n",
       "      <td>NaN</td>\n",
       "      <td>NaN</td>\n",
       "      <td>NaN</td>\n",
       "      <td>NaN</td>\n",
       "      <td>NaN</td>\n",
       "      <td>NaN</td>\n",
       "      <td>NaN</td>\n",
       "    </tr>\n",
       "    <tr>\n",
       "      <th>3</th>\n",
       "      <td>2.0</td>\n",
       "      <td>e_1_2_7_4_1</td>\n",
       "      <td>publisher</td>\n",
       "      <td>10.1007/s003820050007</td>\n",
       "      <td>NaN</td>\n",
       "      <td>NaN</td>\n",
       "      <td>NaN</td>\n",
       "      <td>NaN</td>\n",
       "      <td>NaN</td>\n",
       "      <td>NaN</td>\n",
       "      <td>...</td>\n",
       "      <td>NaN</td>\n",
       "      <td>NaN</td>\n",
       "      <td>NaN</td>\n",
       "      <td>NaN</td>\n",
       "      <td>NaN</td>\n",
       "      <td>NaN</td>\n",
       "      <td>NaN</td>\n",
       "      <td>NaN</td>\n",
       "      <td>NaN</td>\n",
       "      <td>NaN</td>\n",
       "    </tr>\n",
       "    <tr>\n",
       "      <th>4</th>\n",
       "      <td>3.0</td>\n",
       "      <td>e_1_2_7_5_1</td>\n",
       "      <td>publisher</td>\n",
       "      <td>10.1029/2000GL012471</td>\n",
       "      <td>NaN</td>\n",
       "      <td>NaN</td>\n",
       "      <td>NaN</td>\n",
       "      <td>NaN</td>\n",
       "      <td>NaN</td>\n",
       "      <td>NaN</td>\n",
       "      <td>...</td>\n",
       "      <td>NaN</td>\n",
       "      <td>NaN</td>\n",
       "      <td>NaN</td>\n",
       "      <td>NaN</td>\n",
       "      <td>NaN</td>\n",
       "      <td>NaN</td>\n",
       "      <td>NaN</td>\n",
       "      <td>NaN</td>\n",
       "      <td>NaN</td>\n",
       "      <td>NaN</td>\n",
       "    </tr>\n",
       "  </tbody>\n",
       "</table>\n",
       "<p>5 rows × 30 columns</p>\n",
       "</div>"
      ]
     },
     "execution_count": 3,
     "metadata": {},
     "output_type": "execute_result"
    }
   ],
   "execution_count": 3
  },
  {
   "cell_type": "code",
   "id": "a57994cf12e381c8",
   "metadata": {
    "ExecuteTime": {
     "end_time": "2024-09-23T01:09:48.700103Z",
     "start_time": "2024-09-23T01:09:48.661114Z"
    }
   },
   "source": [
    "indexs = df[df.iloc[:,1] == 'key'].index"
   ],
   "outputs": [],
   "execution_count": 4
  },
  {
   "cell_type": "code",
   "id": "1816b21d000755ed",
   "metadata": {
    "ExecuteTime": {
     "end_time": "2024-09-23T01:09:48.718858Z",
     "start_time": "2024-09-23T01:09:48.713189Z"
    }
   },
   "source": [
    "indexs.values"
   ],
   "outputs": [
    {
     "data": {
      "text/plain": [
       "array([     0,  42114,  85280, 167739, 210870, 252752, 295821, 337587,\n",
       "       380293, 422810, 465281, 506287, 553091, 596720, 638334, 681477,\n",
       "       725901, 767956, 810791, 855299, 897519, 940949, 983774],\n",
       "      dtype=int64)"
      ]
     },
     "execution_count": 5,
     "metadata": {},
     "output_type": "execute_result"
    }
   ],
   "execution_count": 5
  },
  {
   "cell_type": "code",
   "id": "9eb340ba62f505bb",
   "metadata": {
    "ExecuteTime": {
     "end_time": "2024-09-23T01:13:15.320086Z",
     "start_time": "2024-09-23T01:13:15.310020Z"
    }
   },
   "source": [
    "print(df.iloc[940949].notna().sum())"
   ],
   "outputs": [
    {
     "name": "stdout",
     "output_type": "stream",
     "text": [
      "18\n"
     ]
    }
   ],
   "execution_count": 6
  },
  {
   "cell_type": "code",
   "id": "231507dea0050231",
   "metadata": {
    "ExecuteTime": {
     "end_time": "2024-09-23T01:14:51.473856Z",
     "start_time": "2024-09-23T01:14:51.465830Z"
    }
   },
   "source": [
    "low = 0\n",
    "lowsize = 0\n",
    "for x in indexs.values:\n",
    "    if df.iloc[x].notna().sum() >= low:\n",
    "        low = x\n",
    "        lowsize = df.iloc[x].notna().sum()"
   ],
   "outputs": [],
   "execution_count": 7
  },
  {
   "cell_type": "code",
   "id": "2d9b34ab-bd73-4184-8b82-45c29ba0ea49",
   "metadata": {
    "ExecuteTime": {
     "end_time": "2024-09-23T01:14:51.484890Z",
     "start_time": "2024-09-23T01:14:51.481862Z"
    }
   },
   "source": [
    "print(low,lowsize)"
   ],
   "outputs": [
    {
     "name": "stdout",
     "output_type": "stream",
     "text": [
      "42114 18\n"
     ]
    }
   ],
   "execution_count": 8
  },
  {
   "cell_type": "code",
   "id": "390182b4-517c-4153-a5ff-519801e04eb1",
   "metadata": {
    "ExecuteTime": {
     "end_time": "2024-09-23T01:22:42.658853Z",
     "start_time": "2024-09-23T01:22:42.554634Z"
    }
   },
   "source": "df.iloc[:,1:lowsize+1].head()",
   "outputs": [
    {
     "data": {
      "text/plain": [
       "            1                2                        3           4   \\\n",
       "0          key  doi-asserted-by                      DOI  first-page   \n",
       "1  e_1_2_7_2_1        publisher         10.1038/35041545         NaN   \n",
       "2  e_1_2_7_3_1        publisher  10.1126/science.1155121         NaN   \n",
       "3  e_1_2_7_4_1        publisher    10.1007/s003820050007         NaN   \n",
       "4  e_1_2_7_5_1        publisher     10.1029/2000GL012471         NaN   \n",
       "\n",
       "             5       6     7       8              9      10            11  \\\n",
       "0  volume-title  author  year  volume  journal-title  issue  series-title   \n",
       "1           NaN     NaN   NaN     NaN            NaN    NaN           NaN   \n",
       "2           NaN     NaN   NaN     NaN            NaN    NaN           NaN   \n",
       "3           NaN     NaN   NaN     NaN            NaN    NaN           NaN   \n",
       "4           NaN     NaN   NaN     NaN            NaN    NaN           NaN   \n",
       "\n",
       "             12             13    14         15       16   17   18  \n",
       "0  unstructured  article-title  ISSN  issn-type  edition  NaN  NaN  \n",
       "1           NaN            NaN   NaN        NaN      NaN  NaN  NaN  \n",
       "2           NaN            NaN   NaN        NaN      NaN  NaN  NaN  \n",
       "3           NaN            NaN   NaN        NaN      NaN  NaN  NaN  \n",
       "4           NaN            NaN   NaN        NaN      NaN  NaN  NaN  "
      ],
      "text/html": [
       "<div>\n",
       "<style scoped>\n",
       "    .dataframe tbody tr th:only-of-type {\n",
       "        vertical-align: middle;\n",
       "    }\n",
       "\n",
       "    .dataframe tbody tr th {\n",
       "        vertical-align: top;\n",
       "    }\n",
       "\n",
       "    .dataframe thead th {\n",
       "        text-align: right;\n",
       "    }\n",
       "</style>\n",
       "<table border=\"1\" class=\"dataframe\">\n",
       "  <thead>\n",
       "    <tr style=\"text-align: right;\">\n",
       "      <th></th>\n",
       "      <th>1</th>\n",
       "      <th>2</th>\n",
       "      <th>3</th>\n",
       "      <th>4</th>\n",
       "      <th>5</th>\n",
       "      <th>6</th>\n",
       "      <th>7</th>\n",
       "      <th>8</th>\n",
       "      <th>9</th>\n",
       "      <th>10</th>\n",
       "      <th>11</th>\n",
       "      <th>12</th>\n",
       "      <th>13</th>\n",
       "      <th>14</th>\n",
       "      <th>15</th>\n",
       "      <th>16</th>\n",
       "      <th>17</th>\n",
       "      <th>18</th>\n",
       "    </tr>\n",
       "  </thead>\n",
       "  <tbody>\n",
       "    <tr>\n",
       "      <th>0</th>\n",
       "      <td>key</td>\n",
       "      <td>doi-asserted-by</td>\n",
       "      <td>DOI</td>\n",
       "      <td>first-page</td>\n",
       "      <td>volume-title</td>\n",
       "      <td>author</td>\n",
       "      <td>year</td>\n",
       "      <td>volume</td>\n",
       "      <td>journal-title</td>\n",
       "      <td>issue</td>\n",
       "      <td>series-title</td>\n",
       "      <td>unstructured</td>\n",
       "      <td>article-title</td>\n",
       "      <td>ISSN</td>\n",
       "      <td>issn-type</td>\n",
       "      <td>edition</td>\n",
       "      <td>NaN</td>\n",
       "      <td>NaN</td>\n",
       "    </tr>\n",
       "    <tr>\n",
       "      <th>1</th>\n",
       "      <td>e_1_2_7_2_1</td>\n",
       "      <td>publisher</td>\n",
       "      <td>10.1038/35041545</td>\n",
       "      <td>NaN</td>\n",
       "      <td>NaN</td>\n",
       "      <td>NaN</td>\n",
       "      <td>NaN</td>\n",
       "      <td>NaN</td>\n",
       "      <td>NaN</td>\n",
       "      <td>NaN</td>\n",
       "      <td>NaN</td>\n",
       "      <td>NaN</td>\n",
       "      <td>NaN</td>\n",
       "      <td>NaN</td>\n",
       "      <td>NaN</td>\n",
       "      <td>NaN</td>\n",
       "      <td>NaN</td>\n",
       "      <td>NaN</td>\n",
       "    </tr>\n",
       "    <tr>\n",
       "      <th>2</th>\n",
       "      <td>e_1_2_7_3_1</td>\n",
       "      <td>publisher</td>\n",
       "      <td>10.1126/science.1155121</td>\n",
       "      <td>NaN</td>\n",
       "      <td>NaN</td>\n",
       "      <td>NaN</td>\n",
       "      <td>NaN</td>\n",
       "      <td>NaN</td>\n",
       "      <td>NaN</td>\n",
       "      <td>NaN</td>\n",
       "      <td>NaN</td>\n",
       "      <td>NaN</td>\n",
       "      <td>NaN</td>\n",
       "      <td>NaN</td>\n",
       "      <td>NaN</td>\n",
       "      <td>NaN</td>\n",
       "      <td>NaN</td>\n",
       "      <td>NaN</td>\n",
       "    </tr>\n",
       "    <tr>\n",
       "      <th>3</th>\n",
       "      <td>e_1_2_7_4_1</td>\n",
       "      <td>publisher</td>\n",
       "      <td>10.1007/s003820050007</td>\n",
       "      <td>NaN</td>\n",
       "      <td>NaN</td>\n",
       "      <td>NaN</td>\n",
       "      <td>NaN</td>\n",
       "      <td>NaN</td>\n",
       "      <td>NaN</td>\n",
       "      <td>NaN</td>\n",
       "      <td>NaN</td>\n",
       "      <td>NaN</td>\n",
       "      <td>NaN</td>\n",
       "      <td>NaN</td>\n",
       "      <td>NaN</td>\n",
       "      <td>NaN</td>\n",
       "      <td>NaN</td>\n",
       "      <td>NaN</td>\n",
       "    </tr>\n",
       "    <tr>\n",
       "      <th>4</th>\n",
       "      <td>e_1_2_7_5_1</td>\n",
       "      <td>publisher</td>\n",
       "      <td>10.1029/2000GL012471</td>\n",
       "      <td>NaN</td>\n",
       "      <td>NaN</td>\n",
       "      <td>NaN</td>\n",
       "      <td>NaN</td>\n",
       "      <td>NaN</td>\n",
       "      <td>NaN</td>\n",
       "      <td>NaN</td>\n",
       "      <td>NaN</td>\n",
       "      <td>NaN</td>\n",
       "      <td>NaN</td>\n",
       "      <td>NaN</td>\n",
       "      <td>NaN</td>\n",
       "      <td>NaN</td>\n",
       "      <td>NaN</td>\n",
       "      <td>NaN</td>\n",
       "    </tr>\n",
       "  </tbody>\n",
       "</table>\n",
       "</div>"
      ]
     },
     "execution_count": 12,
     "metadata": {},
     "output_type": "execute_result"
    }
   ],
   "execution_count": 12
  },
  {
   "cell_type": "code",
   "execution_count": null,
   "id": "b8a3adb7-d4d4-494f-a3e6-cf37499e69cf",
   "metadata": {},
   "outputs": [],
   "source": []
  },
  {
   "metadata": {},
   "cell_type": "code",
   "outputs": [],
   "execution_count": null,
   "source": "",
   "id": "b8f75c3d95b4e46c"
  }
 ],
 "metadata": {
  "kernelspec": {
   "display_name": "Python 3 (ipykernel)",
   "language": "python",
   "name": "python3"
  },
  "language_info": {
   "codemirror_mode": {
    "name": "ipython",
    "version": 3
   },
   "file_extension": ".py",
   "mimetype": "text/x-python",
   "name": "python",
   "nbconvert_exporter": "python",
   "pygments_lexer": "ipython3",
   "version": "3.11.7"
  }
 },
 "nbformat": 4,
 "nbformat_minor": 5
}
