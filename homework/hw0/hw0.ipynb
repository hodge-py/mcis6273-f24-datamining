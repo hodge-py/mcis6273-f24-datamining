{
 "cells": [
  {
   "cell_type": "code",
   "id": "initial_id",
   "metadata": {
    "ExecuteTime": {
     "end_time": "2024-09-23T07:17:43.435810Z",
     "start_time": "2024-09-23T07:17:43.432670Z"
    }
   },
   "source": [
    "import pandas as pd\n",
    "pd.set_option('display.max_rows', None)"
   ],
   "outputs": [],
   "execution_count": 63
  },
  {
   "cell_type": "code",
   "id": "ada41bbff39e1dc9",
   "metadata": {
    "ExecuteTime": {
     "end_time": "2024-09-23T07:17:46.235770Z",
     "start_time": "2024-09-23T07:17:43.444817Z"
    }
   },
   "source": [
    "df = pd.read_csv(\"./data/hw0_dataset_1M.csv\", names = [i for i in range(0,30)])\n",
    "df.head()"
   ],
   "outputs": [
    {
     "name": "stderr",
     "output_type": "stream",
     "text": [
      "C:\\Users\\khodg\\AppData\\Local\\Temp\\ipykernel_1576\\3815970306.py:1: DtypeWarning: Columns (17,18) have mixed types. Specify dtype option on import or set low_memory=False.\n",
      "  df = pd.read_csv(\"./data/hw0_dataset_1M.csv\", names = [i for i in range(0,30)])\n"
     ]
    },
    {
     "data": {
      "text/plain": [
       "    0            1                2                        3           4   \\\n",
       "0  NaN          key  doi-asserted-by                      DOI  first-page   \n",
       "1  0.0  e_1_2_7_2_1        publisher         10.1038/35041545         NaN   \n",
       "2  1.0  e_1_2_7_3_1        publisher  10.1126/science.1155121         NaN   \n",
       "3  2.0  e_1_2_7_4_1        publisher    10.1007/s003820050007         NaN   \n",
       "4  3.0  e_1_2_7_5_1        publisher     10.1029/2000GL012471         NaN   \n",
       "\n",
       "             5       6     7       8              9   ...  20  21  22  23  24  \\\n",
       "0  volume-title  author  year  volume  journal-title  ... NaN NaN NaN NaN NaN   \n",
       "1           NaN     NaN   NaN     NaN            NaN  ... NaN NaN NaN NaN NaN   \n",
       "2           NaN     NaN   NaN     NaN            NaN  ... NaN NaN NaN NaN NaN   \n",
       "3           NaN     NaN   NaN     NaN            NaN  ... NaN NaN NaN NaN NaN   \n",
       "4           NaN     NaN   NaN     NaN            NaN  ... NaN NaN NaN NaN NaN   \n",
       "\n",
       "   25  26  27  28  29  \n",
       "0 NaN NaN NaN NaN NaN  \n",
       "1 NaN NaN NaN NaN NaN  \n",
       "2 NaN NaN NaN NaN NaN  \n",
       "3 NaN NaN NaN NaN NaN  \n",
       "4 NaN NaN NaN NaN NaN  \n",
       "\n",
       "[5 rows x 30 columns]"
      ],
      "text/html": [
       "<div>\n",
       "<style scoped>\n",
       "    .dataframe tbody tr th:only-of-type {\n",
       "        vertical-align: middle;\n",
       "    }\n",
       "\n",
       "    .dataframe tbody tr th {\n",
       "        vertical-align: top;\n",
       "    }\n",
       "\n",
       "    .dataframe thead th {\n",
       "        text-align: right;\n",
       "    }\n",
       "</style>\n",
       "<table border=\"1\" class=\"dataframe\">\n",
       "  <thead>\n",
       "    <tr style=\"text-align: right;\">\n",
       "      <th></th>\n",
       "      <th>0</th>\n",
       "      <th>1</th>\n",
       "      <th>2</th>\n",
       "      <th>3</th>\n",
       "      <th>4</th>\n",
       "      <th>5</th>\n",
       "      <th>6</th>\n",
       "      <th>7</th>\n",
       "      <th>8</th>\n",
       "      <th>9</th>\n",
       "      <th>...</th>\n",
       "      <th>20</th>\n",
       "      <th>21</th>\n",
       "      <th>22</th>\n",
       "      <th>23</th>\n",
       "      <th>24</th>\n",
       "      <th>25</th>\n",
       "      <th>26</th>\n",
       "      <th>27</th>\n",
       "      <th>28</th>\n",
       "      <th>29</th>\n",
       "    </tr>\n",
       "  </thead>\n",
       "  <tbody>\n",
       "    <tr>\n",
       "      <th>0</th>\n",
       "      <td>NaN</td>\n",
       "      <td>key</td>\n",
       "      <td>doi-asserted-by</td>\n",
       "      <td>DOI</td>\n",
       "      <td>first-page</td>\n",
       "      <td>volume-title</td>\n",
       "      <td>author</td>\n",
       "      <td>year</td>\n",
       "      <td>volume</td>\n",
       "      <td>journal-title</td>\n",
       "      <td>...</td>\n",
       "      <td>NaN</td>\n",
       "      <td>NaN</td>\n",
       "      <td>NaN</td>\n",
       "      <td>NaN</td>\n",
       "      <td>NaN</td>\n",
       "      <td>NaN</td>\n",
       "      <td>NaN</td>\n",
       "      <td>NaN</td>\n",
       "      <td>NaN</td>\n",
       "      <td>NaN</td>\n",
       "    </tr>\n",
       "    <tr>\n",
       "      <th>1</th>\n",
       "      <td>0.0</td>\n",
       "      <td>e_1_2_7_2_1</td>\n",
       "      <td>publisher</td>\n",
       "      <td>10.1038/35041545</td>\n",
       "      <td>NaN</td>\n",
       "      <td>NaN</td>\n",
       "      <td>NaN</td>\n",
       "      <td>NaN</td>\n",
       "      <td>NaN</td>\n",
       "      <td>NaN</td>\n",
       "      <td>...</td>\n",
       "      <td>NaN</td>\n",
       "      <td>NaN</td>\n",
       "      <td>NaN</td>\n",
       "      <td>NaN</td>\n",
       "      <td>NaN</td>\n",
       "      <td>NaN</td>\n",
       "      <td>NaN</td>\n",
       "      <td>NaN</td>\n",
       "      <td>NaN</td>\n",
       "      <td>NaN</td>\n",
       "    </tr>\n",
       "    <tr>\n",
       "      <th>2</th>\n",
       "      <td>1.0</td>\n",
       "      <td>e_1_2_7_3_1</td>\n",
       "      <td>publisher</td>\n",
       "      <td>10.1126/science.1155121</td>\n",
       "      <td>NaN</td>\n",
       "      <td>NaN</td>\n",
       "      <td>NaN</td>\n",
       "      <td>NaN</td>\n",
       "      <td>NaN</td>\n",
       "      <td>NaN</td>\n",
       "      <td>...</td>\n",
       "      <td>NaN</td>\n",
       "      <td>NaN</td>\n",
       "      <td>NaN</td>\n",
       "      <td>NaN</td>\n",
       "      <td>NaN</td>\n",
       "      <td>NaN</td>\n",
       "      <td>NaN</td>\n",
       "      <td>NaN</td>\n",
       "      <td>NaN</td>\n",
       "      <td>NaN</td>\n",
       "    </tr>\n",
       "    <tr>\n",
       "      <th>3</th>\n",
       "      <td>2.0</td>\n",
       "      <td>e_1_2_7_4_1</td>\n",
       "      <td>publisher</td>\n",
       "      <td>10.1007/s003820050007</td>\n",
       "      <td>NaN</td>\n",
       "      <td>NaN</td>\n",
       "      <td>NaN</td>\n",
       "      <td>NaN</td>\n",
       "      <td>NaN</td>\n",
       "      <td>NaN</td>\n",
       "      <td>...</td>\n",
       "      <td>NaN</td>\n",
       "      <td>NaN</td>\n",
       "      <td>NaN</td>\n",
       "      <td>NaN</td>\n",
       "      <td>NaN</td>\n",
       "      <td>NaN</td>\n",
       "      <td>NaN</td>\n",
       "      <td>NaN</td>\n",
       "      <td>NaN</td>\n",
       "      <td>NaN</td>\n",
       "    </tr>\n",
       "    <tr>\n",
       "      <th>4</th>\n",
       "      <td>3.0</td>\n",
       "      <td>e_1_2_7_5_1</td>\n",
       "      <td>publisher</td>\n",
       "      <td>10.1029/2000GL012471</td>\n",
       "      <td>NaN</td>\n",
       "      <td>NaN</td>\n",
       "      <td>NaN</td>\n",
       "      <td>NaN</td>\n",
       "      <td>NaN</td>\n",
       "      <td>NaN</td>\n",
       "      <td>...</td>\n",
       "      <td>NaN</td>\n",
       "      <td>NaN</td>\n",
       "      <td>NaN</td>\n",
       "      <td>NaN</td>\n",
       "      <td>NaN</td>\n",
       "      <td>NaN</td>\n",
       "      <td>NaN</td>\n",
       "      <td>NaN</td>\n",
       "      <td>NaN</td>\n",
       "      <td>NaN</td>\n",
       "    </tr>\n",
       "  </tbody>\n",
       "</table>\n",
       "<p>5 rows × 30 columns</p>\n",
       "</div>"
      ]
     },
     "execution_count": 64,
     "metadata": {},
     "output_type": "execute_result"
    }
   ],
   "execution_count": 64
  },
  {
   "cell_type": "code",
   "id": "a57994cf12e381c8",
   "metadata": {
    "ExecuteTime": {
     "end_time": "2024-09-23T07:19:03.239709Z",
     "start_time": "2024-09-23T07:19:03.204707Z"
    }
   },
   "source": [
    "indexs = df[df.iloc[:,1] == 'key'].index"
   ],
   "outputs": [],
   "execution_count": 65
  },
  {
   "cell_type": "code",
   "id": "1816b21d000755ed",
   "metadata": {
    "ExecuteTime": {
     "end_time": "2024-09-23T07:19:03.249006Z",
     "start_time": "2024-09-23T07:19:03.244716Z"
    }
   },
   "source": [
    "indexs.values"
   ],
   "outputs": [
    {
     "data": {
      "text/plain": [
       "array([     0,  42114,  85280, 167739, 210870, 252752, 295821, 337587,\n",
       "       380293, 422810, 465281, 506287, 553091, 596720, 638334, 681477,\n",
       "       725901, 767956, 810791, 855299, 897519, 940949, 983774],\n",
       "      dtype=int64)"
      ]
     },
     "execution_count": 66,
     "metadata": {},
     "output_type": "execute_result"
    }
   ],
   "execution_count": 66
  },
  {
   "cell_type": "code",
   "id": "9eb340ba62f505bb",
   "metadata": {
    "ExecuteTime": {
     "end_time": "2024-09-23T07:20:20.090452Z",
     "start_time": "2024-09-23T07:20:20.086771Z"
    }
   },
   "source": [
    "print(df.iloc[940949].notna().sum())"
   ],
   "outputs": [
    {
     "name": "stdout",
     "output_type": "stream",
     "text": [
      "18\n"
     ]
    }
   ],
   "execution_count": 67
  },
  {
   "cell_type": "code",
   "id": "231507dea0050231",
   "metadata": {
    "ExecuteTime": {
     "end_time": "2024-09-23T07:21:37.344495Z",
     "start_time": "2024-09-23T07:21:37.337861Z"
    }
   },
   "source": [
    "low = 0\n",
    "lowsize = 0\n",
    "for x in indexs.values:\n",
    "    if df.iloc[x].notna().sum() >= low:\n",
    "        low = x\n",
    "        lowsize = df.iloc[x].notna().sum()"
   ],
   "outputs": [],
   "execution_count": 68
  },
  {
   "cell_type": "code",
   "id": "2d9b34ab-bd73-4184-8b82-45c29ba0ea49",
   "metadata": {
    "ExecuteTime": {
     "end_time": "2024-09-23T07:22:54.032060Z",
     "start_time": "2024-09-23T07:22:54.025517Z"
    }
   },
   "source": [
    "print(low,lowsize)"
   ],
   "outputs": [
    {
     "name": "stdout",
     "output_type": "stream",
     "text": [
      "42114 18\n"
     ]
    }
   ],
   "execution_count": 69
  },
  {
   "metadata": {
    "ExecuteTime": {
     "end_time": "2024-09-23T07:24:10.729370Z",
     "start_time": "2024-09-23T07:24:10.725873Z"
    }
   },
   "cell_type": "code",
   "source": [
    "headers = df.iloc[low]\n",
    "df = df[1:]\n",
    "df.columns = headers"
   ],
   "id": "b36289a59c6bfdd4",
   "outputs": [],
   "execution_count": 70
  },
  {
   "cell_type": "code",
   "id": "390182b4-517c-4153-a5ff-519801e04eb1",
   "metadata": {
    "ExecuteTime": {
     "end_time": "2024-09-23T07:25:28.007180Z",
     "start_time": "2024-09-23T07:25:27.898660Z"
    }
   },
   "source": "df = df.iloc[:,1:lowsize+1].head()",
   "outputs": [],
   "execution_count": 71
  },
  {
   "cell_type": "code",
   "id": "b8a3adb7-d4d4-494f-a3e6-cf37499e69cf",
   "metadata": {
    "ExecuteTime": {
     "end_time": "2024-09-23T07:25:28.096394Z",
     "start_time": "2024-09-23T07:25:28.019893Z"
    }
   },
   "source": [
    "df = df.rename_axis(None, axis=1)\n",
    "df.head()"
   ],
   "outputs": [
    {
     "data": {
      "text/plain": [
       "           key doi-asserted-by               first-page  DOI article-title  \\\n",
       "1  e_1_2_7_2_1       publisher         10.1038/35041545  NaN           NaN   \n",
       "2  e_1_2_7_3_1       publisher  10.1126/science.1155121  NaN           NaN   \n",
       "3  e_1_2_7_4_1       publisher    10.1007/s003820050007  NaN           NaN   \n",
       "4  e_1_2_7_5_1       publisher     10.1029/2000GL012471  NaN           NaN   \n",
       "5  e_1_2_7_6_1       publisher     10.1029/2007GL029678  NaN           NaN   \n",
       "\n",
       "  volume author year journal-title unstructured issue series-title  \\\n",
       "1    NaN    NaN  NaN           NaN          NaN   NaN          NaN   \n",
       "2    NaN    NaN  NaN           NaN          NaN   NaN          NaN   \n",
       "3    NaN    NaN  NaN           NaN          NaN   NaN          NaN   \n",
       "4    NaN    NaN  NaN           NaN          NaN   NaN          NaN   \n",
       "5    NaN    NaN  NaN           NaN          NaN   NaN          NaN   \n",
       "\n",
       "  volume-title edition ISSN issn-type isbn-type ISBN  \n",
       "1          NaN     NaN  NaN       NaN       NaN  NaN  \n",
       "2          NaN     NaN  NaN       NaN       NaN  NaN  \n",
       "3          NaN     NaN  NaN       NaN       NaN  NaN  \n",
       "4          NaN     NaN  NaN       NaN       NaN  NaN  \n",
       "5          NaN     NaN  NaN       NaN       NaN  NaN  "
      ],
      "text/html": [
       "<div>\n",
       "<style scoped>\n",
       "    .dataframe tbody tr th:only-of-type {\n",
       "        vertical-align: middle;\n",
       "    }\n",
       "\n",
       "    .dataframe tbody tr th {\n",
       "        vertical-align: top;\n",
       "    }\n",
       "\n",
       "    .dataframe thead th {\n",
       "        text-align: right;\n",
       "    }\n",
       "</style>\n",
       "<table border=\"1\" class=\"dataframe\">\n",
       "  <thead>\n",
       "    <tr style=\"text-align: right;\">\n",
       "      <th></th>\n",
       "      <th>key</th>\n",
       "      <th>doi-asserted-by</th>\n",
       "      <th>first-page</th>\n",
       "      <th>DOI</th>\n",
       "      <th>article-title</th>\n",
       "      <th>volume</th>\n",
       "      <th>author</th>\n",
       "      <th>year</th>\n",
       "      <th>journal-title</th>\n",
       "      <th>unstructured</th>\n",
       "      <th>issue</th>\n",
       "      <th>series-title</th>\n",
       "      <th>volume-title</th>\n",
       "      <th>edition</th>\n",
       "      <th>ISSN</th>\n",
       "      <th>issn-type</th>\n",
       "      <th>isbn-type</th>\n",
       "      <th>ISBN</th>\n",
       "    </tr>\n",
       "  </thead>\n",
       "  <tbody>\n",
       "    <tr>\n",
       "      <th>1</th>\n",
       "      <td>e_1_2_7_2_1</td>\n",
       "      <td>publisher</td>\n",
       "      <td>10.1038/35041545</td>\n",
       "      <td>NaN</td>\n",
       "      <td>NaN</td>\n",
       "      <td>NaN</td>\n",
       "      <td>NaN</td>\n",
       "      <td>NaN</td>\n",
       "      <td>NaN</td>\n",
       "      <td>NaN</td>\n",
       "      <td>NaN</td>\n",
       "      <td>NaN</td>\n",
       "      <td>NaN</td>\n",
       "      <td>NaN</td>\n",
       "      <td>NaN</td>\n",
       "      <td>NaN</td>\n",
       "      <td>NaN</td>\n",
       "      <td>NaN</td>\n",
       "    </tr>\n",
       "    <tr>\n",
       "      <th>2</th>\n",
       "      <td>e_1_2_7_3_1</td>\n",
       "      <td>publisher</td>\n",
       "      <td>10.1126/science.1155121</td>\n",
       "      <td>NaN</td>\n",
       "      <td>NaN</td>\n",
       "      <td>NaN</td>\n",
       "      <td>NaN</td>\n",
       "      <td>NaN</td>\n",
       "      <td>NaN</td>\n",
       "      <td>NaN</td>\n",
       "      <td>NaN</td>\n",
       "      <td>NaN</td>\n",
       "      <td>NaN</td>\n",
       "      <td>NaN</td>\n",
       "      <td>NaN</td>\n",
       "      <td>NaN</td>\n",
       "      <td>NaN</td>\n",
       "      <td>NaN</td>\n",
       "    </tr>\n",
       "    <tr>\n",
       "      <th>3</th>\n",
       "      <td>e_1_2_7_4_1</td>\n",
       "      <td>publisher</td>\n",
       "      <td>10.1007/s003820050007</td>\n",
       "      <td>NaN</td>\n",
       "      <td>NaN</td>\n",
       "      <td>NaN</td>\n",
       "      <td>NaN</td>\n",
       "      <td>NaN</td>\n",
       "      <td>NaN</td>\n",
       "      <td>NaN</td>\n",
       "      <td>NaN</td>\n",
       "      <td>NaN</td>\n",
       "      <td>NaN</td>\n",
       "      <td>NaN</td>\n",
       "      <td>NaN</td>\n",
       "      <td>NaN</td>\n",
       "      <td>NaN</td>\n",
       "      <td>NaN</td>\n",
       "    </tr>\n",
       "    <tr>\n",
       "      <th>4</th>\n",
       "      <td>e_1_2_7_5_1</td>\n",
       "      <td>publisher</td>\n",
       "      <td>10.1029/2000GL012471</td>\n",
       "      <td>NaN</td>\n",
       "      <td>NaN</td>\n",
       "      <td>NaN</td>\n",
       "      <td>NaN</td>\n",
       "      <td>NaN</td>\n",
       "      <td>NaN</td>\n",
       "      <td>NaN</td>\n",
       "      <td>NaN</td>\n",
       "      <td>NaN</td>\n",
       "      <td>NaN</td>\n",
       "      <td>NaN</td>\n",
       "      <td>NaN</td>\n",
       "      <td>NaN</td>\n",
       "      <td>NaN</td>\n",
       "      <td>NaN</td>\n",
       "    </tr>\n",
       "    <tr>\n",
       "      <th>5</th>\n",
       "      <td>e_1_2_7_6_1</td>\n",
       "      <td>publisher</td>\n",
       "      <td>10.1029/2007GL029678</td>\n",
       "      <td>NaN</td>\n",
       "      <td>NaN</td>\n",
       "      <td>NaN</td>\n",
       "      <td>NaN</td>\n",
       "      <td>NaN</td>\n",
       "      <td>NaN</td>\n",
       "      <td>NaN</td>\n",
       "      <td>NaN</td>\n",
       "      <td>NaN</td>\n",
       "      <td>NaN</td>\n",
       "      <td>NaN</td>\n",
       "      <td>NaN</td>\n",
       "      <td>NaN</td>\n",
       "      <td>NaN</td>\n",
       "      <td>NaN</td>\n",
       "    </tr>\n",
       "  </tbody>\n",
       "</table>\n",
       "</div>"
      ]
     },
     "execution_count": 72,
     "metadata": {},
     "output_type": "execute_result"
    }
   ],
   "execution_count": 72
  },
  {
   "metadata": {
    "ExecuteTime": {
     "end_time": "2024-09-23T07:25:28.135379Z",
     "start_time": "2024-09-23T07:25:28.133184Z"
    }
   },
   "cell_type": "code",
   "source": "",
   "id": "b8f75c3d95b4e46c",
   "outputs": [],
   "execution_count": null
  },
  {
   "metadata": {
    "ExecuteTime": {
     "end_time": "2024-09-23T07:25:28.183085Z",
     "start_time": "2024-09-23T07:25:28.180842Z"
    }
   },
   "cell_type": "code",
   "source": "",
   "id": "6206fae7eef872b0",
   "outputs": [],
   "execution_count": null
  }
 ],
 "metadata": {
  "kernelspec": {
   "display_name": "Python 3 (ipykernel)",
   "language": "python",
   "name": "python3"
  },
  "language_info": {
   "codemirror_mode": {
    "name": "ipython",
    "version": 3
   },
   "file_extension": ".py",
   "mimetype": "text/x-python",
   "name": "python",
   "nbconvert_exporter": "python",
   "pygments_lexer": "ipython3",
   "version": "3.11.7"
  }
 },
 "nbformat": 4,
 "nbformat_minor": 5
}
